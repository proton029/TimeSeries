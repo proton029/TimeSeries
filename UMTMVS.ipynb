{
 "cells": [
  {
   "cell_type": "code",
   "execution_count": 1,
   "id": "335a167a",
   "metadata": {},
   "outputs": [],
   "source": [
    "%matplotlib inline\n",
    "import pandas as pd\n",
    "import numpy as np"
   ]
  },
  {
   "cell_type": "code",
   "execution_count": 2,
   "id": "8990f0ae",
   "metadata": {},
   "outputs": [],
   "source": [
    "df=pd.read_csv('UMTMVS.csv')"
   ]
  },
  {
   "cell_type": "code",
   "execution_count": 3,
   "id": "1d4d202a",
   "metadata": {},
   "outputs": [
    {
     "data": {
      "text/html": [
       "<div>\n",
       "<style scoped>\n",
       "    .dataframe tbody tr th:only-of-type {\n",
       "        vertical-align: middle;\n",
       "    }\n",
       "\n",
       "    .dataframe tbody tr th {\n",
       "        vertical-align: top;\n",
       "    }\n",
       "\n",
       "    .dataframe thead th {\n",
       "        text-align: right;\n",
       "    }\n",
       "</style>\n",
       "<table border=\"1\" class=\"dataframe\">\n",
       "  <thead>\n",
       "    <tr style=\"text-align: right;\">\n",
       "      <th></th>\n",
       "      <th>DATE</th>\n",
       "      <th>UMTMVS</th>\n",
       "    </tr>\n",
       "  </thead>\n",
       "  <tbody>\n",
       "    <tr>\n",
       "      <th>0</th>\n",
       "      <td>1992-01-01</td>\n",
       "      <td>209438.0</td>\n",
       "    </tr>\n",
       "    <tr>\n",
       "      <th>1</th>\n",
       "      <td>1992-02-01</td>\n",
       "      <td>232679.0</td>\n",
       "    </tr>\n",
       "    <tr>\n",
       "      <th>2</th>\n",
       "      <td>1992-03-01</td>\n",
       "      <td>249673.0</td>\n",
       "    </tr>\n",
       "    <tr>\n",
       "      <th>3</th>\n",
       "      <td>1992-04-01</td>\n",
       "      <td>239666.0</td>\n",
       "    </tr>\n",
       "    <tr>\n",
       "      <th>4</th>\n",
       "      <td>1992-05-01</td>\n",
       "      <td>243231.0</td>\n",
       "    </tr>\n",
       "  </tbody>\n",
       "</table>\n",
       "</div>"
      ],
      "text/plain": [
       "         DATE    UMTMVS\n",
       "0  1992-01-01  209438.0\n",
       "1  1992-02-01  232679.0\n",
       "2  1992-03-01  249673.0\n",
       "3  1992-04-01  239666.0\n",
       "4  1992-05-01  243231.0"
      ]
     },
     "execution_count": 3,
     "metadata": {},
     "output_type": "execute_result"
    }
   ],
   "source": [
    "df.head()"
   ]
  },
  {
   "cell_type": "markdown",
   "id": "7d77eab9",
   "metadata": {},
   "source": [
    "### Setting DATE column as index column "
   ]
  },
  {
   "cell_type": "code",
   "execution_count": 4,
   "id": "f72cf3b0",
   "metadata": {},
   "outputs": [],
   "source": [
    "df=df.set_index('DATE')"
   ]
  },
  {
   "cell_type": "code",
   "execution_count": 5,
   "id": "669658e7",
   "metadata": {},
   "outputs": [
    {
     "data": {
      "text/html": [
       "<div>\n",
       "<style scoped>\n",
       "    .dataframe tbody tr th:only-of-type {\n",
       "        vertical-align: middle;\n",
       "    }\n",
       "\n",
       "    .dataframe tbody tr th {\n",
       "        vertical-align: top;\n",
       "    }\n",
       "\n",
       "    .dataframe thead th {\n",
       "        text-align: right;\n",
       "    }\n",
       "</style>\n",
       "<table border=\"1\" class=\"dataframe\">\n",
       "  <thead>\n",
       "    <tr style=\"text-align: right;\">\n",
       "      <th></th>\n",
       "      <th>UMTMVS</th>\n",
       "    </tr>\n",
       "    <tr>\n",
       "      <th>DATE</th>\n",
       "      <th></th>\n",
       "    </tr>\n",
       "  </thead>\n",
       "  <tbody>\n",
       "    <tr>\n",
       "      <th>1992-01-01</th>\n",
       "      <td>209438.0</td>\n",
       "    </tr>\n",
       "    <tr>\n",
       "      <th>1992-02-01</th>\n",
       "      <td>232679.0</td>\n",
       "    </tr>\n",
       "    <tr>\n",
       "      <th>1992-03-01</th>\n",
       "      <td>249673.0</td>\n",
       "    </tr>\n",
       "    <tr>\n",
       "      <th>1992-04-01</th>\n",
       "      <td>239666.0</td>\n",
       "    </tr>\n",
       "    <tr>\n",
       "      <th>1992-05-01</th>\n",
       "      <td>243231.0</td>\n",
       "    </tr>\n",
       "  </tbody>\n",
       "</table>\n",
       "</div>"
      ],
      "text/plain": [
       "              UMTMVS\n",
       "DATE                \n",
       "1992-01-01  209438.0\n",
       "1992-02-01  232679.0\n",
       "1992-03-01  249673.0\n",
       "1992-04-01  239666.0\n",
       "1992-05-01  243231.0"
      ]
     },
     "execution_count": 5,
     "metadata": {},
     "output_type": "execute_result"
    }
   ],
   "source": [
    "df.head()"
   ]
  },
  {
   "cell_type": "code",
   "execution_count": 10,
   "id": "36430380",
   "metadata": {},
   "outputs": [
    {
     "data": {
      "text/plain": [
       "Index(['1992-01-01', '1992-02-01', '1992-03-01', '1992-04-01', '1992-05-01',\n",
       "       '1992-06-01', '1992-07-01', '1992-08-01', '1992-09-01', '1992-10-01',\n",
       "       ...\n",
       "       '2018-04-01', '2018-05-01', '2018-06-01', '2018-07-01', '2018-08-01',\n",
       "       '2018-09-01', '2018-10-01', '2018-11-01', '2018-12-01', '2019-01-01'],\n",
       "      dtype='object', name='DATE', length=325)"
      ]
     },
     "execution_count": 10,
     "metadata": {},
     "output_type": "execute_result"
    }
   ],
   "source": [
    "df.index"
   ]
  },
  {
   "cell_type": "markdown",
   "id": "e1e31f7f",
   "metadata": {},
   "source": [
    "#### Index(date) is now in object data type mode we need to convert it to date time format"
   ]
  },
  {
   "cell_type": "code",
   "execution_count": 11,
   "id": "5f27219d",
   "metadata": {},
   "outputs": [],
   "source": [
    "df.index=pd.to_datetime(df.index)"
   ]
  },
  {
   "cell_type": "code",
   "execution_count": 13,
   "id": "d17986dc",
   "metadata": {},
   "outputs": [
    {
     "data": {
      "text/plain": [
       "DatetimeIndex(['1992-01-01', '1992-02-01', '1992-03-01', '1992-04-01',\n",
       "               '1992-05-01', '1992-06-01', '1992-07-01', '1992-08-01',\n",
       "               '1992-09-01', '1992-10-01',\n",
       "               ...\n",
       "               '2018-04-01', '2018-05-01', '2018-06-01', '2018-07-01',\n",
       "               '2018-08-01', '2018-09-01', '2018-10-01', '2018-11-01',\n",
       "               '2018-12-01', '2019-01-01'],\n",
       "              dtype='datetime64[ns]', name='DATE', length=325, freq=None)"
      ]
     },
     "execution_count": 13,
     "metadata": {},
     "output_type": "execute_result"
    }
   ],
   "source": [
    "df.index #checking now to see if date is in date time format"
   ]
  },
  {
   "cell_type": "code",
   "execution_count": 17,
   "id": "4e052957",
   "metadata": {},
   "outputs": [
    {
     "data": {
      "image/png": "[encoded data removed]",
      "text/plain": [
       "<Figure size 1008x360 with 1 Axes>"
      ]
     },
     "metadata": {
      "needs_background": "light"
     },
     "output_type": "display_data"
    }
   ],
   "source": [
    "df.plot(figsize=(14,5));"
   ]
  },
  {
   "cell_type": "markdown",
   "id": "5903c182",
   "metadata": {},
   "source": [
    "### Obserivng the changes in from start of 2009 to start of 2019"
   ]
  },
  {
   "cell_type": "code",
   "execution_count": 19,
   "id": "19c6100f",
   "metadata": {},
   "outputs": [
    {
     "data": {
      "text/plain": [
       "UMTMVS    38.472149\n",
       "dtype: float64"
      ]
     },
     "execution_count": 19,
     "metadata": {},
     "output_type": "execute_result"
    }
   ],
   "source": [
    "100*(df.loc['2019-01-01']-df.loc['2009-01-01'])/df.loc['2009-01-01']"
   ]
  },
  {
   "cell_type": "markdown",
   "id": "b633f1ee",
   "metadata": {},
   "source": [
    "### Obserivng the changes in from start of 2008 to start of 2009"
   ]
  },
  {
   "cell_type": "code",
   "execution_count": 20,
   "id": "a231408e",
   "metadata": {},
   "outputs": [
    {
     "data": {
      "text/plain": [
       "UMTMVS   -22.022775\n",
       "dtype: float64"
      ]
     },
     "execution_count": 20,
     "metadata": {},
     "output_type": "execute_result"
    }
   ],
   "source": [
    "100*(df.loc['2009-01-01']-df.loc['2008-01-01'])/df.loc['2008-01-01']"
   ]
  },
  {
   "cell_type": "markdown",
   "id": "fb876dc8",
   "metadata": {},
   "source": [
    "### Month with the min value after 2005"
   ]
  },
  {
   "cell_type": "code",
   "execution_count": 21,
   "id": "ce6e90be",
   "metadata": {},
   "outputs": [
    {
     "data": {
      "text/plain": [
       "UMTMVS   2009-01-01\n",
       "dtype: datetime64[ns]"
      ]
     },
     "execution_count": 21,
     "metadata": {},
     "output_type": "execute_result"
    }
   ],
   "source": [
    "df.loc['2005-01-01':].idxmin()"
   ]
  },
  {
   "cell_type": "markdown",
   "id": "b9d6c40c",
   "metadata": {},
   "source": [
    "### Taking the 6 months which have the highest value"
   ]
  },
  {
   "cell_type": "code",
   "execution_count": 24,
   "id": "29a8a418",
   "metadata": {},
   "outputs": [
    {
     "data": {
      "text/html": [
       "<div>\n",
       "<style scoped>\n",
       "    .dataframe tbody tr th:only-of-type {\n",
       "        vertical-align: middle;\n",
       "    }\n",
       "\n",
       "    .dataframe tbody tr th {\n",
       "        vertical-align: top;\n",
       "    }\n",
       "\n",
       "    .dataframe thead th {\n",
       "        text-align: right;\n",
       "    }\n",
       "</style>\n",
       "<table border=\"1\" class=\"dataframe\">\n",
       "  <thead>\n",
       "    <tr style=\"text-align: right;\">\n",
       "      <th></th>\n",
       "      <th>UMTMVS</th>\n",
       "    </tr>\n",
       "    <tr>\n",
       "      <th>DATE</th>\n",
       "      <th></th>\n",
       "    </tr>\n",
       "  </thead>\n",
       "  <tbody>\n",
       "    <tr>\n",
       "      <th>2018-08-01</th>\n",
       "      <td>529157.0</td>\n",
       "    </tr>\n",
       "    <tr>\n",
       "      <th>2018-10-01</th>\n",
       "      <td>527031.0</td>\n",
       "    </tr>\n",
       "    <tr>\n",
       "      <th>2018-06-01</th>\n",
       "      <td>525660.0</td>\n",
       "    </tr>\n",
       "    <tr>\n",
       "      <th>2018-03-01</th>\n",
       "      <td>518285.0</td>\n",
       "    </tr>\n",
       "    <tr>\n",
       "      <th>2018-09-01</th>\n",
       "      <td>516992.0</td>\n",
       "    </tr>\n",
       "    <tr>\n",
       "      <th>2014-06-01</th>\n",
       "      <td>516935.0</td>\n",
       "    </tr>\n",
       "  </tbody>\n",
       "</table>\n",
       "</div>"
      ],
      "text/plain": [
       "              UMTMVS\n",
       "DATE                \n",
       "2018-08-01  529157.0\n",
       "2018-10-01  527031.0\n",
       "2018-06-01  525660.0\n",
       "2018-03-01  518285.0\n",
       "2018-09-01  516992.0\n",
       "2014-06-01  516935.0"
      ]
     },
     "execution_count": 24,
     "metadata": {},
     "output_type": "execute_result"
    }
   ],
   "source": [
    "df.sort_values(by='UMTMVS',ascending=False).head(6)"
   ]
  },
  {
   "cell_type": "markdown",
   "id": "0a72557a",
   "metadata": {},
   "source": [
    "### **How much of dollars in value was lost in 2008? (Another way of posing this question is what was the value difference between Jan 2008 and Jan 2009)**"
   ]
  },
  {
   "cell_type": "code",
   "execution_count": 25,
   "id": "ebe36653",
   "metadata": {},
   "outputs": [
    {
     "data": {
      "text/plain": [
       "UMTMVS    95206.0\n",
       "dtype: float64"
      ]
     },
     "execution_count": 25,
     "metadata": {},
     "output_type": "execute_result"
    }
   ],
   "source": [
    "df.loc['2008-01-01'] - df.loc['2009-01-01']"
   ]
  },
  {
   "cell_type": "markdown",
   "id": "57597583",
   "metadata": {},
   "source": [
    "### avg value in millions of dollors per year"
   ]
  },
  {
   "cell_type": "code",
   "execution_count": 26,
   "id": "44a3f57e",
   "metadata": {},
   "outputs": [
    {
     "data": {
      "text/plain": [
       "<AxesSubplot:xlabel='DATE'>"
      ]
     },
     "execution_count": 26,
     "metadata": {},
     "output_type": "execute_result"
    },
    {
     "data": {
      "image/png": "[encoded data removed]",
      "text/plain": [
       "<Figure size 864x576 with 1 Axes>"
      ]
     },
     "metadata": {
      "needs_background": "light"
     },
     "output_type": "display_data"
    }
   ],
   "source": [
    "df.resample('Y').mean().plot.bar(figsize=(12,8))"
   ]
  },
  {
   "cell_type": "markdown",
   "id": "23f7b1d0",
   "metadata": {},
   "source": [
    "### What year had the biggest increase in mean value from the previous year's mean value?"
   ]
  },
  {
   "cell_type": "code",
   "execution_count": 27,
   "id": "b3b65cc2",
   "metadata": {},
   "outputs": [],
   "source": [
    "yearly_data = df.resample('Y').mean()\n",
    "yearly_data_shift = yearly_data.shift(1)"
   ]
  },
  {
   "cell_type": "code",
   "execution_count": 28,
   "id": "75ea700d",
   "metadata": {},
   "outputs": [
    {
     "data": {
      "text/html": [
       "<div>\n",
       "<style scoped>\n",
       "    .dataframe tbody tr th:only-of-type {\n",
       "        vertical-align: middle;\n",
       "    }\n",
       "\n",
       "    .dataframe tbody tr th {\n",
       "        vertical-align: top;\n",
       "    }\n",
       "\n",
       "    .dataframe thead th {\n",
       "        text-align: right;\n",
       "    }\n",
       "</style>\n",
       "<table border=\"1\" class=\"dataframe\">\n",
       "  <thead>\n",
       "    <tr style=\"text-align: right;\">\n",
       "      <th></th>\n",
       "      <th>UMTMVS</th>\n",
       "    </tr>\n",
       "    <tr>\n",
       "      <th>DATE</th>\n",
       "      <th></th>\n",
       "    </tr>\n",
       "  </thead>\n",
       "  <tbody>\n",
       "    <tr>\n",
       "      <th>1992-12-31</th>\n",
       "      <td>242002.000000</td>\n",
       "    </tr>\n",
       "    <tr>\n",
       "      <th>1993-12-31</th>\n",
       "      <td>251708.083333</td>\n",
       "    </tr>\n",
       "    <tr>\n",
       "      <th>1994-12-31</th>\n",
       "      <td>269842.666667</td>\n",
       "    </tr>\n",
       "    <tr>\n",
       "      <th>1995-12-31</th>\n",
       "      <td>289973.083333</td>\n",
       "    </tr>\n",
       "    <tr>\n",
       "      <th>1996-12-31</th>\n",
       "      <td>299765.666667</td>\n",
       "    </tr>\n",
       "  </tbody>\n",
       "</table>\n",
       "</div>"
      ],
      "text/plain": [
       "                   UMTMVS\n",
       "DATE                     \n",
       "1992-12-31  242002.000000\n",
       "1993-12-31  251708.083333\n",
       "1994-12-31  269842.666667\n",
       "1995-12-31  289973.083333\n",
       "1996-12-31  299765.666667"
      ]
     },
     "execution_count": 28,
     "metadata": {},
     "output_type": "execute_result"
    }
   ],
   "source": [
    "yearly_data.head()"
   ]
  },
  {
   "cell_type": "code",
   "execution_count": 29,
   "id": "744bcc0b",
   "metadata": {},
   "outputs": [
    {
     "data": {
      "text/html": [
       "<div>\n",
       "<style scoped>\n",
       "    .dataframe tbody tr th:only-of-type {\n",
       "        vertical-align: middle;\n",
       "    }\n",
       "\n",
       "    .dataframe tbody tr th {\n",
       "        vertical-align: top;\n",
       "    }\n",
       "\n",
       "    .dataframe thead th {\n",
       "        text-align: right;\n",
       "    }\n",
       "</style>\n",
       "<table border=\"1\" class=\"dataframe\">\n",
       "  <thead>\n",
       "    <tr style=\"text-align: right;\">\n",
       "      <th></th>\n",
       "      <th>UMTMVS</th>\n",
       "    </tr>\n",
       "    <tr>\n",
       "      <th>DATE</th>\n",
       "      <th></th>\n",
       "    </tr>\n",
       "  </thead>\n",
       "  <tbody>\n",
       "    <tr>\n",
       "      <th>1992-12-31</th>\n",
       "      <td>NaN</td>\n",
       "    </tr>\n",
       "    <tr>\n",
       "      <th>1993-12-31</th>\n",
       "      <td>242002.000000</td>\n",
       "    </tr>\n",
       "    <tr>\n",
       "      <th>1994-12-31</th>\n",
       "      <td>251708.083333</td>\n",
       "    </tr>\n",
       "    <tr>\n",
       "      <th>1995-12-31</th>\n",
       "      <td>269842.666667</td>\n",
       "    </tr>\n",
       "    <tr>\n",
       "      <th>1996-12-31</th>\n",
       "      <td>289973.083333</td>\n",
       "    </tr>\n",
       "  </tbody>\n",
       "</table>\n",
       "</div>"
      ],
      "text/plain": [
       "                   UMTMVS\n",
       "DATE                     \n",
       "1992-12-31            NaN\n",
       "1993-12-31  242002.000000\n",
       "1994-12-31  251708.083333\n",
       "1995-12-31  269842.666667\n",
       "1996-12-31  289973.083333"
      ]
     },
     "execution_count": 29,
     "metadata": {},
     "output_type": "execute_result"
    }
   ],
   "source": [
    "yearly_data_shift.head()"
   ]
  },
  {
   "cell_type": "code",
   "execution_count": 30,
   "id": "a192633b",
   "metadata": {},
   "outputs": [],
   "source": [
    "change = yearly_data - yearly_data_shift "
   ]
  },
  {
   "cell_type": "code",
   "execution_count": 31,
   "id": "f5f74b13",
   "metadata": {},
   "outputs": [
    {
     "data": {
      "text/plain": [
       "Timestamp('2011-12-31 00:00:00', freq='A-DEC')"
      ]
     },
     "execution_count": 31,
     "metadata": {},
     "output_type": "execute_result"
    }
   ],
   "source": [
    "change['UMTMVS'].idxmax()"
   ]
  },
  {
   "cell_type": "markdown",
   "id": "be0a8d5a",
   "metadata": {},
   "source": [
    "#### Plotting out the yearly rolling mean on top of the original data. Recall that this is monthly data and there are 12 months in a year!"
   ]
  },
  {
   "cell_type": "code",
   "execution_count": 32,
   "id": "b9d5ea46",
   "metadata": {},
   "outputs": [
    {
     "data": {
      "image/png": "[encoded data removed]",
      "text/plain": [
       "<Figure size 864x360 with 1 Axes>"
      ]
     },
     "metadata": {
      "needs_background": "light"
     },
     "output_type": "display_data"
    }
   ],
   "source": [
    "df['Yearly Mean'] = df['UMTMVS'].rolling(window=12).mean()\n",
    "df[['UMTMVS','Yearly Mean']].plot(figsize=(12,5)).autoscale(axis='x',tight=True);"
   ]
  },
  {
   "cell_type": "code",
   "execution_count": 33,
   "id": "97a2effa",
   "metadata": {},
   "outputs": [
    {
     "data": {
      "text/html": [
       "<div>\n",
       "<style scoped>\n",
       "    .dataframe tbody tr th:only-of-type {\n",
       "        vertical-align: middle;\n",
       "    }\n",
       "\n",
       "    .dataframe tbody tr th {\n",
       "        vertical-align: top;\n",
       "    }\n",
       "\n",
       "    .dataframe thead th {\n",
       "        text-align: right;\n",
       "    }\n",
       "</style>\n",
       "<table border=\"1\" class=\"dataframe\">\n",
       "  <thead>\n",
       "    <tr style=\"text-align: right;\">\n",
       "      <th></th>\n",
       "      <th>UMTMVS</th>\n",
       "      <th>Yearly Mean</th>\n",
       "    </tr>\n",
       "    <tr>\n",
       "      <th>DATE</th>\n",
       "      <th></th>\n",
       "      <th></th>\n",
       "    </tr>\n",
       "  </thead>\n",
       "  <tbody>\n",
       "    <tr>\n",
       "      <th>1992-01-01</th>\n",
       "      <td>209438.0</td>\n",
       "      <td>NaN</td>\n",
       "    </tr>\n",
       "    <tr>\n",
       "      <th>1992-02-01</th>\n",
       "      <td>232679.0</td>\n",
       "      <td>NaN</td>\n",
       "    </tr>\n",
       "    <tr>\n",
       "      <th>1992-03-01</th>\n",
       "      <td>249673.0</td>\n",
       "      <td>NaN</td>\n",
       "    </tr>\n",
       "    <tr>\n",
       "      <th>1992-04-01</th>\n",
       "      <td>239666.0</td>\n",
       "      <td>NaN</td>\n",
       "    </tr>\n",
       "    <tr>\n",
       "      <th>1992-05-01</th>\n",
       "      <td>243231.0</td>\n",
       "      <td>NaN</td>\n",
       "    </tr>\n",
       "    <tr>\n",
       "      <th>...</th>\n",
       "      <td>...</td>\n",
       "      <td>...</td>\n",
       "    </tr>\n",
       "    <tr>\n",
       "      <th>2018-09-01</th>\n",
       "      <td>516992.0</td>\n",
       "      <td>493075.583333</td>\n",
       "    </tr>\n",
       "    <tr>\n",
       "      <th>2018-10-01</th>\n",
       "      <td>527031.0</td>\n",
       "      <td>496482.333333</td>\n",
       "    </tr>\n",
       "    <tr>\n",
       "      <th>2018-11-01</th>\n",
       "      <td>495901.0</td>\n",
       "      <td>498308.833333</td>\n",
       "    </tr>\n",
       "    <tr>\n",
       "      <th>2018-12-01</th>\n",
       "      <td>490076.0</td>\n",
       "      <td>499964.166667</td>\n",
       "    </tr>\n",
       "    <tr>\n",
       "      <th>2019-01-01</th>\n",
       "      <td>466791.0</td>\n",
       "      <td>501048.666667</td>\n",
       "    </tr>\n",
       "  </tbody>\n",
       "</table>\n",
       "<p>325 rows × 2 columns</p>\n",
       "</div>"
      ],
      "text/plain": [
       "              UMTMVS    Yearly Mean\n",
       "DATE                               \n",
       "1992-01-01  209438.0            NaN\n",
       "1992-02-01  232679.0            NaN\n",
       "1992-03-01  249673.0            NaN\n",
       "1992-04-01  239666.0            NaN\n",
       "1992-05-01  243231.0            NaN\n",
       "...              ...            ...\n",
       "2018-09-01  516992.0  493075.583333\n",
       "2018-10-01  527031.0  496482.333333\n",
       "2018-11-01  495901.0  498308.833333\n",
       "2018-12-01  490076.0  499964.166667\n",
       "2019-01-01  466791.0  501048.666667\n",
       "\n",
       "[325 rows x 2 columns]"
      ]
     },
     "execution_count": 33,
     "metadata": {},
     "output_type": "execute_result"
    }
   ],
   "source": [
    "df"
   ]
  },
  {
   "cell_type": "markdown",
   "id": "a07cbf5f",
   "metadata": {},
   "source": [
    "#### Some month in 2008 the value peaked for that year. How many months did it take to surpass that 2008 peak? (Since it crashed immediately after this peak) "
   ]
  },
  {
   "cell_type": "code",
   "execution_count": 34,
   "id": "a3b2d658",
   "metadata": {},
   "outputs": [],
   "source": [
    "# reading data again as we did manipulations on it"
   ]
  },
  {
   "cell_type": "code",
   "execution_count": 35,
   "id": "71d9a43f",
   "metadata": {},
   "outputs": [],
   "source": [
    "df=pd.read_csv('UMTMVS.csv',index_col='DATE',parse_dates=True)"
   ]
  },
  {
   "cell_type": "code",
   "execution_count": 36,
   "id": "bbc8330c",
   "metadata": {},
   "outputs": [
    {
     "data": {
      "text/plain": [
       "DatetimeIndex(['1992-01-01', '1992-02-01', '1992-03-01', '1992-04-01',\n",
       "               '1992-05-01', '1992-06-01', '1992-07-01', '1992-08-01',\n",
       "               '1992-09-01', '1992-10-01',\n",
       "               ...\n",
       "               '2018-04-01', '2018-05-01', '2018-06-01', '2018-07-01',\n",
       "               '2018-08-01', '2018-09-01', '2018-10-01', '2018-11-01',\n",
       "               '2018-12-01', '2019-01-01'],\n",
       "              dtype='datetime64[ns]', name='DATE', length=325, freq=None)"
      ]
     },
     "execution_count": 36,
     "metadata": {},
     "output_type": "execute_result"
    }
   ],
   "source": [
    "df.index"
   ]
  },
  {
   "cell_type": "code",
   "execution_count": 37,
   "id": "df2c8a7a",
   "metadata": {},
   "outputs": [],
   "source": [
    "df2008 = df.loc['2008-01-01':'2009-01-01']"
   ]
  },
  {
   "cell_type": "code",
   "execution_count": 39,
   "id": "60b0b12e",
   "metadata": {},
   "outputs": [
    {
     "data": {
      "text/plain": [
       "UMTMVS   2008-06-01\n",
       "dtype: datetime64[ns]"
      ]
     },
     "execution_count": 39,
     "metadata": {},
     "output_type": "execute_result"
    }
   ],
   "source": [
    "df2008.idxmax()"
   ]
  },
  {
   "cell_type": "code",
   "execution_count": 40,
   "id": "6da7d137",
   "metadata": {},
   "outputs": [
    {
     "data": {
      "text/plain": [
       "UMTMVS    510081.0\n",
       "dtype: float64"
      ]
     },
     "execution_count": 40,
     "metadata": {},
     "output_type": "execute_result"
    }
   ],
   "source": [
    "df2008.max()"
   ]
  },
  {
   "cell_type": "markdown",
   "id": "39561fd5",
   "metadata": {},
   "source": [
    "#### post peak"
   ]
  },
  {
   "cell_type": "code",
   "execution_count": 41,
   "id": "b3be8624",
   "metadata": {},
   "outputs": [],
   "source": [
    "dfPost_peak = df.loc['2008-06-01':]"
   ]
  },
  {
   "cell_type": "code",
   "execution_count": 43,
   "id": "77f195eb",
   "metadata": {},
   "outputs": [
    {
     "data": {
      "text/html": [
       "<div>\n",
       "<style scoped>\n",
       "    .dataframe tbody tr th:only-of-type {\n",
       "        vertical-align: middle;\n",
       "    }\n",
       "\n",
       "    .dataframe tbody tr th {\n",
       "        vertical-align: top;\n",
       "    }\n",
       "\n",
       "    .dataframe thead th {\n",
       "        text-align: right;\n",
       "    }\n",
       "</style>\n",
       "<table border=\"1\" class=\"dataframe\">\n",
       "  <thead>\n",
       "    <tr style=\"text-align: right;\">\n",
       "      <th></th>\n",
       "      <th>UMTMVS</th>\n",
       "    </tr>\n",
       "    <tr>\n",
       "      <th>DATE</th>\n",
       "      <th></th>\n",
       "    </tr>\n",
       "  </thead>\n",
       "  <tbody>\n",
       "    <tr>\n",
       "      <th>2008-06-01</th>\n",
       "      <td>510081.0</td>\n",
       "    </tr>\n",
       "    <tr>\n",
       "      <th>2014-03-01</th>\n",
       "      <td>513700.0</td>\n",
       "    </tr>\n",
       "    <tr>\n",
       "      <th>2014-06-01</th>\n",
       "      <td>516935.0</td>\n",
       "    </tr>\n",
       "    <tr>\n",
       "      <th>2014-09-01</th>\n",
       "      <td>512988.0</td>\n",
       "    </tr>\n",
       "    <tr>\n",
       "      <th>2018-03-01</th>\n",
       "      <td>518285.0</td>\n",
       "    </tr>\n",
       "    <tr>\n",
       "      <th>2018-05-01</th>\n",
       "      <td>515105.0</td>\n",
       "    </tr>\n",
       "    <tr>\n",
       "      <th>2018-06-01</th>\n",
       "      <td>525660.0</td>\n",
       "    </tr>\n",
       "    <tr>\n",
       "      <th>2018-08-01</th>\n",
       "      <td>529157.0</td>\n",
       "    </tr>\n",
       "    <tr>\n",
       "      <th>2018-09-01</th>\n",
       "      <td>516992.0</td>\n",
       "    </tr>\n",
       "    <tr>\n",
       "      <th>2018-10-01</th>\n",
       "      <td>527031.0</td>\n",
       "    </tr>\n",
       "  </tbody>\n",
       "</table>\n",
       "</div>"
      ],
      "text/plain": [
       "              UMTMVS\n",
       "DATE                \n",
       "2008-06-01  510081.0\n",
       "2014-03-01  513700.0\n",
       "2014-06-01  516935.0\n",
       "2014-09-01  512988.0\n",
       "2018-03-01  518285.0\n",
       "2018-05-01  515105.0\n",
       "2018-06-01  525660.0\n",
       "2018-08-01  529157.0\n",
       "2018-09-01  516992.0\n",
       "2018-10-01  527031.0"
      ]
     },
     "execution_count": 43,
     "metadata": {},
     "output_type": "execute_result"
    }
   ],
   "source": [
    "dfPost_peak[dfPost_peak>=510081].dropna()"
   ]
  },
  {
   "cell_type": "code",
   "execution_count": 44,
   "id": "e378b0cb",
   "metadata": {},
   "outputs": [
    {
     "data": {
      "text/plain": [
       "70"
      ]
     },
     "execution_count": 44,
     "metadata": {},
     "output_type": "execute_result"
    }
   ],
   "source": [
    "len(df.loc['2008-06-01':'2014-03-01'])"
   ]
  },
  {
   "cell_type": "markdown",
   "id": "bc3811a4",
   "metadata": {},
   "source": [
    "Took 70 months to reach the same peak after the fall"
   ]
  },
  {
   "cell_type": "code",
   "execution_count": null,
   "id": "7373b1d6",
   "metadata": {},
   "outputs": [],
   "source": []
  }
 ],
 "metadata": {
  "kernelspec": {
   "display_name": "Python 3 (ipykernel)",
   "language": "python",
   "name": "python3"
  },
  "language_info": {
   "codemirror_mode": {
    "name": "ipython",
    "version": 3
   },
   "file_extension": ".py",
   "mimetype": "text/x-python",
   "name": "python",
   "nbconvert_exporter": "python",
   "pygments_lexer": "ipython3",
   "version": "3.9.7"
  }
 },
 "nbformat": 4,
 "nbformat_minor": 5
}
